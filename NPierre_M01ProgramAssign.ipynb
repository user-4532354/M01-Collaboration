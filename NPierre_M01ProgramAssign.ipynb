{
 "cells": [
  {
   "cell_type": "code",
   "execution_count": 13,
   "id": "23a673f5-a279-4dfd-ab98-e1bdc518e0a4",
   "metadata": {},
   "outputs": [
    {
     "name": "stdout",
     "output_type": "stream",
     "text": [
      "3600\n",
      "86400\n",
      "24.0\n",
      "24\n"
     ]
    }
   ],
   "source": [
    "#Name: Nailah Pierre\n",
    "#Date: 3/23/24\n",
    "#Assignment: M01 Programming Assignment - Numbers and Types\n",
    "\n",
    "seconds = 60\n",
    "minutes = 60     #code for section 3.1; set the variables for seconds and minutes then multiplied\n",
    "\n",
    "seconds_per_hour = seconds * minutes    \n",
    "print(seconds_per_hour)     #code for section 3.2; set the result of the multiplication to seconds_per_hour and printed\n",
    "\n",
    "seconds_per_day = seconds_per_hour * 24   #code for section 3.3 & 3.4; calculated the amount of seconds in a day and set variable to seconds_per_day\n",
    "print(seconds_per_day)\n",
    "\n",
    "print(seconds_per_day / seconds_per_hour)       #code for section 3.5; used floating point to divide seconds_per_day by seconds_per_hour\n",
    "\n",
    "print(seconds_per_day // seconds_per_hour)      #code for section 3.6; used integer division to divide seconds_per_day by seconds_per_hour\n",
    "                                                     #despite the zero, the number does agree with the floating-point value \n",
    "\n"
   ]
  },
  {
   "cell_type": "code",
   "execution_count": null,
   "id": "6b7e0226-cd4e-476c-9aef-9ac284a18059",
   "metadata": {},
   "outputs": [],
   "source": []
  }
 ],
 "metadata": {
  "kernelspec": {
   "display_name": "anaconda-panel-2023.05-py310",
   "language": "python",
   "name": "conda-env-anaconda-panel-2023.05-py310-py"
  },
  "language_info": {
   "codemirror_mode": {
    "name": "ipython",
    "version": 3
   },
   "file_extension": ".py",
   "mimetype": "text/x-python",
   "name": "python",
   "nbconvert_exporter": "python",
   "pygments_lexer": "ipython3",
   "version": "3.11.5"
  }
 },
 "nbformat": 4,
 "nbformat_minor": 5
}
